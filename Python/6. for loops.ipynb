{
 "cells": [
  {
   "cell_type": "markdown",
   "id": "5a9de1a5-ec24-49ba-aeff-5f5c6adad43e",
   "metadata": {},
   "source": [
    "# For Loop"
   ]
  },
  {
   "cell_type": "code",
   "execution_count": 1,
   "id": "b6eabab1-b086-4948-9e03-d98249bb5a5b",
   "metadata": {},
   "outputs": [],
   "source": [
    "# for Loop in List\n",
    "\n",
    "integers = [1, 2, 3, 4, 5]"
   ]
  },
  {
   "cell_type": "code",
   "execution_count": 2,
   "id": "dd291812-7a9c-444c-a047-bfd372447e1f",
   "metadata": {},
   "outputs": [
    {
     "name": "stdout",
     "output_type": "stream",
     "text": [
      "1\n",
      "2\n",
      "3\n",
      "4\n",
      "5\n"
     ]
    }
   ],
   "source": [
    "for number in integers:\n",
    "    print(number)"
   ]
  },
  {
   "cell_type": "code",
   "execution_count": 3,
   "id": "e3a7ed3c-5c9e-4cd6-bee9-7c2c26cf162c",
   "metadata": {},
   "outputs": [
    {
     "name": "stdout",
     "output_type": "stream",
     "text": [
      "yep\n",
      "yep\n",
      "yep\n",
      "yep\n",
      "yep\n"
     ]
    }
   ],
   "source": [
    "for number in integers:\n",
    "    print(\"yep\")"
   ]
  },
  {
   "cell_type": "code",
   "execution_count": 4,
   "id": "5fbfa1e0-eeb5-489f-83d0-5238ea26551a",
   "metadata": {},
   "outputs": [
    {
     "name": "stdout",
     "output_type": "stream",
     "text": [
      "yep\n",
      "yep\n",
      "yep\n"
     ]
    }
   ],
   "source": [
    "# try only with the same number\n",
    "tryx = [1, 1, 1]\n",
    "\n",
    "for x in tryx:\n",
    "    print(\"yep\")"
   ]
  },
  {
   "cell_type": "code",
   "execution_count": 5,
   "id": "badb5c44-d616-4075-b82e-ce294b42b3d6",
   "metadata": {},
   "outputs": [],
   "source": [
    "integers = [1, 2, 3, 4, 5]"
   ]
  },
  {
   "cell_type": "code",
   "execution_count": 6,
   "id": "7ce8478f-13b7-492f-ac8a-181c534d9f8a",
   "metadata": {},
   "outputs": [
    {
     "name": "stdout",
     "output_type": "stream",
     "text": [
      "2\n",
      "4\n",
      "6\n",
      "8\n",
      "10\n"
     ]
    }
   ],
   "source": [
    "for jelly in integers:\n",
    "    print(jelly + jelly)"
   ]
  },
  {
   "cell_type": "code",
   "execution_count": 7,
   "id": "0bc4d929-ba24-48b6-9ee2-68d3b4316836",
   "metadata": {},
   "outputs": [],
   "source": [
    "# for Loop in Dictionary\n",
    "\n",
    "ice_cream_dict = {\n",
    "    \"name\" : \"Alex Freberg\",\n",
    "    \"weekly intake\" : 5,\n",
    "    \"favorite ice creams\" : [\"MCC\", \"Chocolate\"]\n",
    "    }"
   ]
  },
  {
   "cell_type": "code",
   "execution_count": 8,
   "id": "9dc292b5-0106-4c92-bf24-43fda35646c3",
   "metadata": {},
   "outputs": [
    {
     "name": "stdout",
     "output_type": "stream",
     "text": [
      "name\n",
      "weekly intake\n",
      "favorite ice creams\n"
     ]
    }
   ],
   "source": [
    "for cream in ice_cream_dict:\n",
    "    print(cream)"
   ]
  },
  {
   "cell_type": "code",
   "execution_count": 9,
   "id": "ecd15658-a0cd-4dfa-89b1-33c8a1faa78d",
   "metadata": {},
   "outputs": [
    {
     "name": "stdout",
     "output_type": "stream",
     "text": [
      "Alex Freberg\n",
      "5\n",
      "['MCC', 'Chocolate']\n"
     ]
    }
   ],
   "source": [
    "for creams in ice_cream_dict.values():\n",
    "    print(creams)"
   ]
  },
  {
   "cell_type": "code",
   "execution_count": 10,
   "id": "1511c459-7d48-4b66-bbaf-e6b98bb044fa",
   "metadata": {},
   "outputs": [
    {
     "name": "stdout",
     "output_type": "stream",
     "text": [
      "name -> Alex Freberg\n",
      "weekly intake -> 5\n",
      "favorite ice creams -> ['MCC', 'Chocolate']\n"
     ]
    }
   ],
   "source": [
    "for key, value in ice_cream_dict.items():\n",
    "    print(key, \"->\", value)"
   ]
  },
  {
   "cell_type": "markdown",
   "id": "1d3f8ebf-7560-4be9-9925-5966625a9f49",
   "metadata": {},
   "source": [
    "# Nested for Loop"
   ]
  },
  {
   "cell_type": "code",
   "execution_count": 11,
   "id": "ce08b73b-c772-45ec-930b-6ccf1695c12f",
   "metadata": {},
   "outputs": [],
   "source": [
    "flavors = [\"Vanilla\", \"Chocolate\", \"Cookie Dough\"]\n",
    "toppings = [\"Hot Fudge\", \"Oreos\", \"Marshmallows\"]"
   ]
  },
  {
   "cell_type": "code",
   "execution_count": 12,
   "id": "a055ce1f-0fae-45b1-ab83-c48c8e8f2f9f",
   "metadata": {},
   "outputs": [
    {
     "name": "stdout",
     "output_type": "stream",
     "text": [
      "Vanilla\n",
      "Hot Fudge\n",
      "Oreos\n",
      "Marshmallows\n",
      "Chocolate\n",
      "Hot Fudge\n",
      "Oreos\n",
      "Marshmallows\n",
      "Cookie Dough\n",
      "Hot Fudge\n",
      "Oreos\n",
      "Marshmallows\n"
     ]
    }
   ],
   "source": [
    "for one in flavors:\n",
    "    print(one)\n",
    "    for two in toppings:\n",
    "        print(two)"
   ]
  },
  {
   "cell_type": "code",
   "execution_count": 13,
   "id": "c5a646f2-a16c-44d5-a810-6d9e227959f2",
   "metadata": {},
   "outputs": [
    {
     "name": "stdout",
     "output_type": "stream",
     "text": [
      "Vanilla topped with Hot Fudge\n",
      "Vanilla topped with Oreos\n",
      "Vanilla topped with Marshmallows\n",
      "Chocolate topped with Hot Fudge\n",
      "Chocolate topped with Oreos\n",
      "Chocolate topped with Marshmallows\n",
      "Cookie Dough topped with Hot Fudge\n",
      "Cookie Dough topped with Oreos\n",
      "Cookie Dough topped with Marshmallows\n"
     ]
    }
   ],
   "source": [
    "for one in flavors:\n",
    "    for two in toppings:\n",
    "        print(one, \"topped with\", two)"
   ]
  },
  {
   "cell_type": "code",
   "execution_count": null,
   "id": "c5374cde-dc95-4e4d-9a9c-f8cb5792293b",
   "metadata": {},
   "outputs": [],
   "source": []
  }
 ],
 "metadata": {
  "kernelspec": {
   "display_name": "base",
   "language": "python",
   "name": "python3"
  },
  "language_info": {
   "codemirror_mode": {
    "name": "ipython",
    "version": 3
   },
   "file_extension": ".py",
   "mimetype": "text/x-python",
   "name": "python",
   "nbconvert_exporter": "python",
   "pygments_lexer": "ipython3",
   "version": "3.12.7"
  }
 },
 "nbformat": 4,
 "nbformat_minor": 5
}
