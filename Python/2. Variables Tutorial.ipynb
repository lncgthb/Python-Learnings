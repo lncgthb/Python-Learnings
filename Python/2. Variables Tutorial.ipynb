{
 "cells": [
  {
   "cell_type": "markdown",
   "id": "be5af727-6d45-40e6-9918-4caaf9d8315e",
   "metadata": {},
   "source": [
    "# Variables in Python"
   ]
  },
  {
   "cell_type": "code",
   "execution_count": 1,
   "id": "8fafb1a9-de54-4e14-9ef2-988090ba0d99",
   "metadata": {},
   "outputs": [
    {
     "name": "stdout",
     "output_type": "stream",
     "text": [
      "22\n"
     ]
    }
   ],
   "source": [
    "x = 22\n",
    "\n",
    "print(x)"
   ]
  },
  {
   "cell_type": "code",
   "execution_count": 2,
   "id": "87431788-196c-478d-ad63-a854ad35a92c",
   "metadata": {},
   "outputs": [
    {
     "data": {
      "text/plain": [
       "int"
      ]
     },
     "execution_count": 2,
     "metadata": {},
     "output_type": "execute_result"
    }
   ],
   "source": [
    "type(x)"
   ]
  },
  {
   "cell_type": "code",
   "execution_count": 3,
   "id": "cf51e11b-b048-47b3-bfa1-88bddadb0d4c",
   "metadata": {},
   "outputs": [
    {
     "name": "stdout",
     "output_type": "stream",
     "text": [
      "Mint Chocolate Chip\n"
     ]
    }
   ],
   "source": [
    "y = \"Mint Chocolate Chip\"\n",
    "\n",
    "print(y)"
   ]
  },
  {
   "cell_type": "code",
   "execution_count": 4,
   "id": "c9b9dae7-615c-4f8c-bb41-0cda7872477f",
   "metadata": {},
   "outputs": [
    {
     "data": {
      "text/plain": [
       "str"
      ]
     },
     "execution_count": 4,
     "metadata": {},
     "output_type": "execute_result"
    }
   ],
   "source": [
    "type(y)"
   ]
  },
  {
   "cell_type": "code",
   "execution_count": 5,
   "id": "aa177b5d-baf7-4ab6-b2b9-eee788df2529",
   "metadata": {},
   "outputs": [
    {
     "name": "stdout",
     "output_type": "stream",
     "text": [
      "Chocolate\n"
     ]
    }
   ],
   "source": [
    "y = \"Chocolate\"\n",
    "\n",
    "Y = \"Mint Chocolate Chip\"\n",
    "\n",
    "print(y)"
   ]
  },
  {
   "cell_type": "code",
   "execution_count": 6,
   "id": "1fa38254-b61d-4f15-87b2-eab16f5854c1",
   "metadata": {},
   "outputs": [
    {
     "name": "stdout",
     "output_type": "stream",
     "text": [
      "Chocolate\n",
      "Vanilla\n",
      "Rocky Road\n"
     ]
    }
   ],
   "source": [
    "# Multiple Variables in one line\n",
    "x, y, z = \"Chocolate\", \"Vanilla\", \"Rocky Road\"\n",
    "\n",
    "print(x)\n",
    "print(y)\n",
    "print(z)"
   ]
  },
  {
   "cell_type": "code",
   "execution_count": 7,
   "id": "2b5317a2-570f-482f-87da-78698e215816",
   "metadata": {},
   "outputs": [
    {
     "name": "stdout",
     "output_type": "stream",
     "text": [
      "Root Bear Float\n",
      "Root Bear Float\n",
      "Root Bear Float\n"
     ]
    }
   ],
   "source": [
    "# More Variables\n",
    "x = y = z = \"Root Bear Float\"\n",
    "\n",
    "print(x)\n",
    "print(y)\n",
    "print(z)"
   ]
  },
  {
   "cell_type": "code",
   "execution_count": 8,
   "id": "2abb94fb-edaf-445a-8742-040448a5ee81",
   "metadata": {},
   "outputs": [
    {
     "name": "stdout",
     "output_type": "stream",
     "text": [
      "Chocolate\n",
      "Vanilla\n",
      "Rocky Road\n"
     ]
    }
   ],
   "source": [
    "# List\n",
    "ice_cream = [\"Chocolate\", \"Vanilla\", \"Rocky Road\"]\n",
    "\n",
    "x, y, z = ice_cream\n",
    "\n",
    "print(x)\n",
    "print(y)\n",
    "print(z)"
   ]
  },
  {
   "cell_type": "code",
   "execution_count": 9,
   "id": "579e75dc-f2ff-41b7-afcf-3d9a04300efd",
   "metadata": {},
   "outputs": [],
   "source": [
    "# different types of how to write a variable"
   ]
  },
  {
   "cell_type": "code",
   "execution_count": 10,
   "id": "934511b3-4470-463d-8f32-b6b33a8b1ff9",
   "metadata": {},
   "outputs": [],
   "source": [
    "# Camel Case - only first word is lower case\n",
    "\n",
    "testVariableCase = \"Vanilla Swirl\""
   ]
  },
  {
   "cell_type": "code",
   "execution_count": 11,
   "id": "722735d3-7418-4ecc-9133-7a3dec9a9e5f",
   "metadata": {},
   "outputs": [],
   "source": [
    "# Pascal Case - all worlds are in upper case\n",
    "\n",
    "TestVariableCase = \"Vanilla Swirl\""
   ]
  },
  {
   "cell_type": "code",
   "execution_count": 12,
   "id": "c7d36406-5065-4ae4-b9e2-4966afbb5233",
   "metadata": {},
   "outputs": [],
   "source": [
    "# Snake Case - underscore in between words\n",
    "\n",
    "test_variable_case = \"Vanilla Swirl\""
   ]
  },
  {
   "cell_type": "code",
   "execution_count": 13,
   "id": "61c5b9e6-221c-462e-989e-c6372057e1c1",
   "metadata": {},
   "outputs": [],
   "source": [
    "# Appropriate Variable\n",
    "\n",
    "testvar = \"Vanilla Swirl\"\n",
    "test_var = \"Vanilla Swirl\"\n",
    "_test_var = \"Vanilla Swirl\"\n",
    "testVar = \"Vanilla Swirl\"\n",
    "Testvar = \"Vanilla Swirl\"\n",
    "testVar2 = \"Vanilla Swirl\""
   ]
  },
  {
   "cell_type": "code",
   "execution_count": 14,
   "id": "48fb5f3d-fead-4cf6-b0e2-bec07c2c9de7",
   "metadata": {},
   "outputs": [],
   "source": [
    "# inappropriate Variable\n",
    "\n",
    "# 2testVar\n",
    "# test-Var2\n",
    "# test Var2\n",
    "# test,Var2"
   ]
  },
  {
   "cell_type": "code",
   "execution_count": 15,
   "id": "30911523-832e-4d90-809d-2fa26082141e",
   "metadata": {},
   "outputs": [
    {
     "name": "stdout",
     "output_type": "stream",
     "text": [
      "Ice Cream is my favorite.\n"
     ]
    }
   ],
   "source": [
    "x = \"Ice Cream\" + \" is my\" + \" favorite.\"\n",
    "\n",
    "print(x)"
   ]
  },
  {
   "cell_type": "code",
   "execution_count": 16,
   "id": "75497117-4449-4cc1-86a4-144fa8d9bb43",
   "metadata": {},
   "outputs": [
    {
     "name": "stdout",
     "output_type": "stream",
     "text": [
      "5\n"
     ]
    }
   ],
   "source": [
    "y = 3 + 2\n",
    "\n",
    "print(y)"
   ]
  },
  {
   "cell_type": "code",
   "execution_count": 17,
   "id": "d41e48a0-0c27-4a6d-8efe-6aa230e3dafb",
   "metadata": {},
   "outputs": [
    {
     "name": "stdout",
     "output_type": "stream",
     "text": [
      "Ice Cream is my favorite.\n"
     ]
    }
   ],
   "source": [
    "x = \"Ice Cream\"\n",
    "y = \"is my\"\n",
    "z = \"favorite.\"\n",
    "\n",
    "print(x,y,z)"
   ]
  },
  {
   "cell_type": "code",
   "execution_count": 18,
   "id": "916c41e6-1975-41c0-af29-7ba7549b3020",
   "metadata": {},
   "outputs": [
    {
     "name": "stdout",
     "output_type": "stream",
     "text": [
      "6\n"
     ]
    }
   ],
   "source": [
    "x = 1\n",
    "y = 2\n",
    "z = 3\n",
    "\n",
    "print(x + y + z)"
   ]
  },
  {
   "cell_type": "code",
   "execution_count": 19,
   "id": "4afba27d-2264-4705-8940-ebe40176cae6",
   "metadata": {},
   "outputs": [
    {
     "name": "stdout",
     "output_type": "stream",
     "text": [
      "Ice Cream 2\n"
     ]
    }
   ],
   "source": [
    "x = \"Ice Cream\"\n",
    "y = 2\n",
    "\n",
    "print(x, y)"
   ]
  },
  {
   "cell_type": "code",
   "execution_count": 20,
   "id": "ce126b4a-13c8-4848-8d81-d9dd3899b314",
   "metadata": {},
   "outputs": [
    {
     "ename": "TypeError",
     "evalue": "can only concatenate str (not \"int\") to str",
     "output_type": "error",
     "traceback": [
      "\u001b[1;31m---------------------------------------------------------------------------\u001b[0m",
      "\u001b[1;31mTypeError\u001b[0m                                 Traceback (most recent call last)",
      "Cell \u001b[1;32mIn[20], line 4\u001b[0m\n\u001b[0;32m      1\u001b[0m x \u001b[38;5;241m=\u001b[39m \u001b[38;5;124m\"\u001b[39m\u001b[38;5;124mIce Cream\u001b[39m\u001b[38;5;124m\"\u001b[39m\n\u001b[0;32m      2\u001b[0m y \u001b[38;5;241m=\u001b[39m \u001b[38;5;241m2\u001b[39m\n\u001b[1;32m----> 4\u001b[0m \u001b[38;5;28mprint\u001b[39m (x \u001b[38;5;241m+\u001b[39m y)\n",
      "\u001b[1;31mTypeError\u001b[0m: can only concatenate str (not \"int\") to str"
     ]
    }
   ],
   "source": [
    "x = \"Ice Cream\"\n",
    "y = 2\n",
    "\n",
    "print (x + y)\n",
    "# this is not applicable #error"
   ]
  },
  {
   "cell_type": "code",
   "execution_count": null,
   "id": "6ea39ba4-e452-4f58-bfbd-3359d9f68795",
   "metadata": {},
   "outputs": [],
   "source": []
  }
 ],
 "metadata": {
  "kernelspec": {
   "display_name": "base",
   "language": "python",
   "name": "python3"
  },
  "language_info": {
   "codemirror_mode": {
    "name": "ipython",
    "version": 3
   },
   "file_extension": ".py",
   "mimetype": "text/x-python",
   "name": "python",
   "nbconvert_exporter": "python",
   "pygments_lexer": "ipython3",
   "version": "3.12.7"
  }
 },
 "nbformat": 4,
 "nbformat_minor": 5
}
