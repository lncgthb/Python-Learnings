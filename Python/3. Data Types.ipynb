{
 "cells": [
  {
   "cell_type": "markdown",
   "id": "9c7fd2fc-3639-44e1-beb7-04071c2a3e5a",
   "metadata": {},
   "source": [
    "# Data Types"
   ]
  },
  {
   "cell_type": "code",
   "execution_count": 1,
   "id": "ecbf1d89-3550-44fd-996a-4160b3336a41",
   "metadata": {},
   "outputs": [
    {
     "data": {
      "text/plain": [
       "int"
      ]
     },
     "execution_count": 1,
     "metadata": {},
     "output_type": "execute_result"
    }
   ],
   "source": [
    "# Integer\n",
    "\n",
    "type(12 + 100 )"
   ]
  },
  {
   "cell_type": "code",
   "execution_count": 2,
   "id": "705e5421-0295-4d46-92c8-efbb91ed1f6f",
   "metadata": {},
   "outputs": [
    {
     "data": {
      "text/plain": [
       "float"
      ]
     },
     "execution_count": 2,
     "metadata": {},
     "output_type": "execute_result"
    }
   ],
   "source": [
    "# Float\n",
    "\n",
    "type (12 + 10.23)"
   ]
  },
  {
   "cell_type": "code",
   "execution_count": 3,
   "id": "3108b6f8-09d9-414d-8527-88044d59be11",
   "metadata": {},
   "outputs": [
    {
     "data": {
      "text/plain": [
       "complex"
      ]
     },
     "execution_count": 3,
     "metadata": {},
     "output_type": "execute_result"
    }
   ],
   "source": [
    "# Complex\n",
    "\n",
    "type (12 + 3j)"
   ]
  },
  {
   "cell_type": "code",
   "execution_count": 4,
   "id": "f0958daa-31e2-493f-b481-13ead1f8128a",
   "metadata": {},
   "outputs": [
    {
     "name": "stdout",
     "output_type": "stream",
     "text": [
      "<class 'bool'>\n",
      "<class 'bool'>\n",
      "<class 'bool'>\n"
     ]
    }
   ],
   "source": [
    "# Boolean\n",
    "\n",
    "print(type(True))\n",
    "print(type(1 == 1))\n",
    "print(type(1 < 5))"
   ]
  },
  {
   "cell_type": "code",
   "execution_count": 5,
   "id": "0e2507f5-fcf3-4bc3-8ed1-b6701bb3fe7f",
   "metadata": {},
   "outputs": [
    {
     "data": {
      "text/plain": [
       "str"
      ]
     },
     "execution_count": 5,
     "metadata": {},
     "output_type": "execute_result"
    }
   ],
   "source": [
    "# String\n",
    "\n",
    "type(\"Quote\")"
   ]
  },
  {
   "cell_type": "code",
   "execution_count": 6,
   "id": "a8f6c158-b39f-4869-b110-96eee9621bb2",
   "metadata": {},
   "outputs": [
    {
     "name": "stdout",
     "output_type": "stream",
     "text": [
      "\n",
      "The ice cream vanquished\n",
      "my longing for sweets,\n",
      "upon this diet I look away,\n",
      "it no longer exists on this day.\n",
      "\n"
     ]
    }
   ],
   "source": [
    "# Multiline String\n",
    "\n",
    "multiline = \"\"\"\n",
    "The ice cream vanquished\n",
    "my longing for sweets,\n",
    "upon this diet I look away,\n",
    "it no longer exists on this day.\n",
    "\"\"\"\n",
    "\n",
    "print(multiline)"
   ]
  },
  {
   "cell_type": "code",
   "execution_count": 7,
   "id": "b071d567-65e4-4e11-bc29-c39145e23e30",
   "metadata": {},
   "outputs": [
    {
     "data": {
      "text/plain": [
       "str"
      ]
     },
     "execution_count": 7,
     "metadata": {},
     "output_type": "execute_result"
    }
   ],
   "source": [
    "type(multiline)"
   ]
  },
  {
   "cell_type": "code",
   "execution_count": 8,
   "id": "6e3fd77f-98ab-467d-96aa-f2f777f9f240",
   "metadata": {},
   "outputs": [
    {
     "name": "stdout",
     "output_type": "stream",
     "text": [
      "Hello\n",
      "W\n",
      "llo\n",
      "l\n"
     ]
    }
   ],
   "source": [
    "a = \"Hello Wolrd!\"\n",
    "\n",
    "print(a[:5])\n",
    "print(a[6])\n",
    "print(a[2:5])\n",
    "print(a[-4])"
   ]
  },
  {
   "cell_type": "code",
   "execution_count": 9,
   "id": "e1f31098-7553-464e-b603-447a68bc38b2",
   "metadata": {},
   "outputs": [
    {
     "name": "stdout",
     "output_type": "stream",
     "text": [
      "Hello Wolrd!Hello Wolrd!Hello Wolrd!\n",
      "Hello Wolrd!Hello Wolrd!\n"
     ]
    }
   ],
   "source": [
    "# multiply strings\n",
    "\n",
    "print(a * 3)\n",
    "print(a + a)"
   ]
  },
  {
   "cell_type": "code",
   "execution_count": 10,
   "id": "8702c01a-5217-49a7-a35d-0789453c6bc9",
   "metadata": {},
   "outputs": [
    {
     "name": "stdout",
     "output_type": "stream",
     "text": [
      "[1, 2, 3]\n",
      "['Cookie Dough', 'Strawberry', 'Chocolate']\n",
      "['Vanilla', 3, ['Scoops', 'Spoon'], True]\n"
     ]
    }
   ],
   "source": [
    "# List\n",
    "\n",
    "print([1, 2 , 3])\n",
    "print([\"Cookie Dough\", \"Strawberry\", \"Chocolate\"])\n",
    "print([\"Vanilla\", 3, [\"Scoops\", \"Spoon\"], True])"
   ]
  },
  {
   "cell_type": "code",
   "execution_count": 11,
   "id": "522ca15f-2638-4bcf-b1b1-afd711af82f3",
   "metadata": {},
   "outputs": [
    {
     "name": "stdout",
     "output_type": "stream",
     "text": [
      "['Cookie Dough', 'Strawberry', 'Chocolate', 'Salted Caramel']\n"
     ]
    }
   ],
   "source": [
    "# Adding to a list\n",
    "\n",
    "ice_cream = [\"Cookie Dough\", \"Strawberry\", \"Chocolate\"]\n",
    "\n",
    "ice_cream.append(\"Salted Caramel\")\n",
    "\n",
    "print(ice_cream)"
   ]
  },
  {
   "cell_type": "code",
   "execution_count": 12,
   "id": "2ccca280-a451-4019-b068-7e990e6e52b3",
   "metadata": {},
   "outputs": [
    {
     "name": "stdout",
     "output_type": "stream",
     "text": [
      "['Butter Pecan', 'Strawberry', 'Chocolate', 'Salted Caramel']\n"
     ]
    }
   ],
   "source": [
    "# changing data on the list\n",
    "\n",
    "ice_cream[0] = \"Butter Pecan\"\n",
    "\n",
    "print(ice_cream)"
   ]
  },
  {
   "cell_type": "code",
   "execution_count": 13,
   "id": "3cd4bb3a-3c5a-49a9-80e4-7be88cca8752",
   "metadata": {},
   "outputs": [
    {
     "name": "stdout",
     "output_type": "stream",
     "text": [
      "Vanilla\n",
      "['Scoops', 'Spoon']\n",
      "Spoon\n"
     ]
    }
   ],
   "source": [
    "# Nested List\n",
    "\n",
    "nest_list = [\"Vanilla\", 3, [\"Scoops\", \"Spoon\"], True]\n",
    "\n",
    "print(nest_list[0])\n",
    "print(nest_list[2])\n",
    "print(nest_list[2][1])"
   ]
  },
  {
   "cell_type": "code",
   "execution_count": null,
   "id": "51ce8e4d-9bf3-4772-bcd6-58506d45fa31",
   "metadata": {},
   "outputs": [
    {
     "name": "stdout",
     "output_type": "stream",
     "text": [
      "<class 'tuple'>\n",
      "2\n"
     ]
    }
   ],
   "source": [
    "# Tuples - immutable - Unlike a list, it cannot be changed.\n",
    "\n",
    "tuple_scoops = (1, 2, 3, 2, 1)\n",
    "\n",
    "print(type(tuple_scoops))\n",
    "print(tuple_scoops[1])"
   ]
  },
  {
   "cell_type": "code",
   "execution_count": null,
   "id": "4f0095c3-56e9-48d3-b078-52045f5df998",
   "metadata": {},
   "outputs": [
    {
     "name": "stdout",
     "output_type": "stream",
     "text": [
      "<class 'set'>\n",
      "{1, 2, 3}\n"
     ]
    }
   ],
   "source": [
    "# Sets - similar to lists and tuples, but without duplicates or indexes due to its unordered structure\n",
    "\n",
    "daily_pints = {1, 2, 3}\n",
    "\n",
    "print(type(daily_pints))\n",
    "print(daily_pints)"
   ]
  },
  {
   "cell_type": "code",
   "execution_count": 16,
   "id": "090426de-3515-426c-98c6-5bcf15d7fca0",
   "metadata": {},
   "outputs": [
    {
     "name": "stdout",
     "output_type": "stream",
     "text": [
      "{1, 2, 3, 4, 5, 6, 9}\n"
     ]
    }
   ],
   "source": [
    "daily_pints_log = {1,2,3,1,2,3,4,5,6,4,5,6,9}\n",
    "\n",
    "print(daily_pints_log)"
   ]
  },
  {
   "cell_type": "code",
   "execution_count": 17,
   "id": "cce4450b-c1a3-4553-b618-2ba68dd30421",
   "metadata": {},
   "outputs": [
    {
     "name": "stdout",
     "output_type": "stream",
     "text": [
      "{0, 1, 2, 3, 4, 5, 6, 8, 9}\n"
     ]
    }
   ],
   "source": [
    "# comparing 2 sets\n",
    "# no duplicate - |\n",
    "\n",
    "wifes_daily_pints_log = {1,2,3,4,5,6,2,3,4,1,6,9,8,0}\n",
    "\n",
    "print(daily_pints_log | wifes_daily_pints_log)"
   ]
  },
  {
   "cell_type": "code",
   "execution_count": 18,
   "id": "384f1a98-4241-47ae-bb0a-e6be3d20ff97",
   "metadata": {},
   "outputs": [
    {
     "name": "stdout",
     "output_type": "stream",
     "text": [
      "{1, 2, 3, 4, 5, 6, 9}\n"
     ]
    }
   ],
   "source": [
    "# comparing 2 sets\n",
    "# what matches - &\n",
    "\n",
    "print(daily_pints_log & wifes_daily_pints_log)"
   ]
  },
  {
   "cell_type": "code",
   "execution_count": 19,
   "id": "da748465-2803-4cf0-a935-71e51b092113",
   "metadata": {},
   "outputs": [
    {
     "name": "stdout",
     "output_type": "stream",
     "text": [
      "{0, 8}\n"
     ]
    }
   ],
   "source": [
    "# comparing 2 sets\n",
    "# what doesn't match - -\n",
    "\n",
    "print(wifes_daily_pints_log - daily_pints_log)"
   ]
  },
  {
   "cell_type": "code",
   "execution_count": null,
   "id": "cfe9e8b2-47c8-4ade-a713-c4cc93920c1f",
   "metadata": {},
   "outputs": [
    {
     "name": "stdout",
     "output_type": "stream",
     "text": [
      "{0, 8}\n"
     ]
    }
   ],
   "source": [
    "# comparing 2 sets\n",
    "# the value is in one but not both - ^ \n",
    "\n",
    "print(wifes_daily_pints_log ^ daily_pints_log)"
   ]
  },
  {
   "cell_type": "code",
   "execution_count": null,
   "id": "e42c757e-1fd0-4dea-a519-db254c1a4811",
   "metadata": {},
   "outputs": [
    {
     "name": "stdout",
     "output_type": "stream",
     "text": [
      "<class 'dict'>\n",
      "{'name': 'Alex Freberg', 'weekly intake': 5, 'favorite ice creams': ['MCC', 'Chocolate']}\n"
     ]
    }
   ],
   "source": [
    "# Dictionaries\n",
    "# Key-Value Pair\n",
    "\n",
    "dict_cream = {\n",
    "    \"name\" : \"Alex Freberg\",\n",
    "    \"weekly intake\" : 5,\n",
    "    \"favorite ice creams\" : [\"MCC\", \"Chocolate\"]\n",
    "}\n",
    "\n",
    "print(type(dict_cream))\n",
    "print(dict_cream)"
   ]
  },
  {
   "cell_type": "code",
   "execution_count": 22,
   "id": "643833cf-bea6-4d1c-91ca-639edddaba85",
   "metadata": {},
   "outputs": [
    {
     "data": {
      "text/plain": [
       "dict_keys(['name', 'weekly intake', 'favorite ice creams'])"
      ]
     },
     "execution_count": 22,
     "metadata": {},
     "output_type": "execute_result"
    }
   ],
   "source": [
    "dict_cream.keys()"
   ]
  },
  {
   "cell_type": "code",
   "execution_count": 23,
   "id": "c9d104c2-ed5e-404a-9d4d-33e188e47911",
   "metadata": {},
   "outputs": [
    {
     "data": {
      "text/plain": [
       "dict_values(['Alex Freberg', 5, ['MCC', 'Chocolate']])"
      ]
     },
     "execution_count": 23,
     "metadata": {},
     "output_type": "execute_result"
    }
   ],
   "source": [
    "dict_cream.values()"
   ]
  },
  {
   "cell_type": "code",
   "execution_count": 24,
   "id": "f6ff0fdc-391e-4fc9-9241-6fb3ff728e1f",
   "metadata": {},
   "outputs": [
    {
     "data": {
      "text/plain": [
       "dict_items([('name', 'Alex Freberg'), ('weekly intake', 5), ('favorite ice creams', ['MCC', 'Chocolate'])])"
      ]
     },
     "execution_count": 24,
     "metadata": {},
     "output_type": "execute_result"
    }
   ],
   "source": [
    "dict_cream.items()"
   ]
  },
  {
   "cell_type": "code",
   "execution_count": 25,
   "id": "d6c46d31-1188-4585-8ff4-b117ad7ca9be",
   "metadata": {},
   "outputs": [
    {
     "name": "stdout",
     "output_type": "stream",
     "text": [
      "Alex Freberg\n"
     ]
    }
   ],
   "source": [
    "# indexing in dictionary is not allowed\n",
    "# we need to call the Key\n",
    "\n",
    "print(dict_cream[\"name\"])"
   ]
  },
  {
   "cell_type": "code",
   "execution_count": null,
   "id": "a647bb44-d58e-49cf-9c3d-0a63f15eec88",
   "metadata": {},
   "outputs": [
    {
     "name": "stdout",
     "output_type": "stream",
     "text": [
      "{'name': 'Christine Freberg', 'weekly intake': 5, 'favorite ice creams': ['MCC', 'Chocolate']}\n"
     ]
    }
   ],
   "source": [
    "# updating or changing value of the dictionary\n",
    "\n",
    "dict_cream[\"name\"] = \"Christine Freberg\"\n",
    "\n",
    "print(dict_cream)"
   ]
  },
  {
   "cell_type": "code",
   "execution_count": null,
   "id": "45270f2b-a307-48ee-bf32-746277cdf49c",
   "metadata": {},
   "outputs": [
    {
     "name": "stdout",
     "output_type": "stream",
     "text": [
      "{'name': 'Christine Freberg', 'weekly intake': 10, 'favorite ice creams': ['MCC', 'Chocolate'], 'weight': 300}\n"
     ]
    }
   ],
   "source": [
    "# you can add a key-value pair and update the value of the key\n",
    "\n",
    "dict_cream.update({'name': 'Christine Freberg', 'weekly intake': 10, 'favorite ice creams': ['MCC', 'Chocolate'], \"weight\" : 300})\n",
    "\n",
    "print(dict_cream)"
   ]
  },
  {
   "cell_type": "code",
   "execution_count": null,
   "id": "1acd448c-56a9-46ff-b99f-8b73e8b399a6",
   "metadata": {},
   "outputs": [
    {
     "name": "stdout",
     "output_type": "stream",
     "text": [
      "{'name': 'Christine Freberg', 'weekly intake': 10, 'favorite ice creams': ['MCC', 'Chocolate']}\n"
     ]
    }
   ],
   "source": [
    "# to delete a key-value pair in a dictionary, we need to call the key\n",
    "\n",
    "del dict_cream[\"weight\"]\n",
    "\n",
    "print(dict_cream)"
   ]
  },
  {
   "cell_type": "code",
   "execution_count": null,
   "id": "cf28dd4b-38da-4493-b7d8-8ac3fa6c5cb6",
   "metadata": {},
   "outputs": [],
   "source": []
  }
 ],
 "metadata": {
  "kernelspec": {
   "display_name": "base",
   "language": "python",
   "name": "python3"
  },
  "language_info": {
   "codemirror_mode": {
    "name": "ipython",
    "version": 3
   },
   "file_extension": ".py",
   "mimetype": "text/x-python",
   "name": "python",
   "nbconvert_exporter": "python",
   "pygments_lexer": "ipython3",
   "version": "3.12.7"
  }
 },
 "nbformat": 4,
 "nbformat_minor": 5
}
