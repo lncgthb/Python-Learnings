{
 "cells": [
  {
   "cell_type": "markdown",
   "id": "db47e0cd-9be6-40d5-85e4-029c7fdb01c3",
   "metadata": {},
   "source": [
    "# Functions"
   ]
  },
  {
   "cell_type": "code",
   "execution_count": 1,
   "id": "4399ae35-265c-423c-9125-015d37919adf",
   "metadata": {},
   "outputs": [
    {
     "name": "stdout",
     "output_type": "stream",
     "text": [
      "My First Function\n"
     ]
    }
   ],
   "source": [
    "# def - defining a function\n",
    "\n",
    "def function():\n",
    "    print(\"My First Function\")\n",
    "\n",
    "function()"
   ]
  },
  {
   "cell_type": "code",
   "execution_count": 2,
   "id": "2d956c24-b5c0-4573-a8d3-da4655681bf5",
   "metadata": {},
   "outputs": [
    {
     "name": "stdout",
     "output_type": "stream",
     "text": [
      "25\n"
     ]
    }
   ],
   "source": [
    "# argument = inside the parenthesis\n",
    "\n",
    "def number_squared(number):\n",
    "    print(number ** 2)\n",
    "\n",
    "number_squared(5)"
   ]
  },
  {
   "cell_type": "code",
   "execution_count": 3,
   "id": "095bf858-4ff6-4859-8ee6-0985c37d9b71",
   "metadata": {},
   "outputs": [
    {
     "name": "stdout",
     "output_type": "stream",
     "text": [
      "125\n"
     ]
    }
   ],
   "source": [
    "# multiple arguments\n",
    "\n",
    "def number_squared_cust(number, power):\n",
    "    print(number ** power)\n",
    "\n",
    "number_squared_cust(5, 3)"
   ]
  },
  {
   "cell_type": "code",
   "execution_count": 4,
   "id": "f47f5b86-62d5-4fe6-a863-b597020686a8",
   "metadata": {},
   "outputs": [
    {
     "name": "stdout",
     "output_type": "stream",
     "text": [
      "30\n"
     ]
    }
   ],
   "source": [
    "# arbitrary arguments - if you do not know the data or just need to pass a data\n",
    "\n",
    "def number_args(*number):\n",
    "    print(number[0] * number[1])\n",
    "\n",
    "number_args(5, 6, 1, 2, 8)"
   ]
  },
  {
   "cell_type": "code",
   "execution_count": 5,
   "id": "10d492ef-bb3b-4e31-8ae9-e478201ac796",
   "metadata": {},
   "outputs": [
    {
     "name": "stdout",
     "output_type": "stream",
     "text": [
      "30\n"
     ]
    }
   ],
   "source": [
    "# tuple arguments\n",
    "\n",
    "args_tuple = (5, 6, 1, 2, 8)\n",
    "\n",
    "def number_args(*number):\n",
    "    print(number[0] * number[1])\n",
    "\n",
    "number_args(*args_tuple)"
   ]
  },
  {
   "cell_type": "code",
   "execution_count": 6,
   "id": "d98778e5-3ee8-42eb-93d3-d811e329f7f9",
   "metadata": {},
   "outputs": [
    {
     "name": "stdout",
     "output_type": "stream",
     "text": [
      "243\n"
     ]
    }
   ],
   "source": [
    "# Keyword Arguments - controlling argument\n",
    "\n",
    "def number_squared_cust(number, power):\n",
    "    print(number ** power)\n",
    "\n",
    "number_squared_cust(power = 5, number = 3)"
   ]
  },
  {
   "cell_type": "code",
   "execution_count": 7,
   "id": "112d5bb8-55c7-4122-b7c7-b79368f0179b",
   "metadata": {},
   "outputs": [
    {
     "name": "stdout",
     "output_type": "stream",
     "text": [
      "My number is 2309. My other number is 349.\n"
     ]
    }
   ],
   "source": [
    "# Arbitrary Keyword Arguments - arbitrary - we do not know how many arguments will pass\n",
    "# this applies to all strings\n",
    "\n",
    "def number_kwarg(**number):\n",
    "    print(\"My number is\", number[\"integer\"] + \".\", \"My other number is\", number[\"integer2\"] + \".\")\n",
    "\n",
    "number_kwarg(integer = \"2309\", integer2 = \"349\")"
   ]
  },
  {
   "cell_type": "code",
   "execution_count": null,
   "id": "178b3db0-78d4-4883-9f5e-98a3daf0d317",
   "metadata": {},
   "outputs": [],
   "source": []
  }
 ],
 "metadata": {
  "kernelspec": {
   "display_name": "base",
   "language": "python",
   "name": "python3"
  },
  "language_info": {
   "codemirror_mode": {
    "name": "ipython",
    "version": 3
   },
   "file_extension": ".py",
   "mimetype": "text/x-python",
   "name": "python",
   "nbconvert_exporter": "python",
   "pygments_lexer": "ipython3",
   "version": "3.12.7"
  }
 },
 "nbformat": 4,
 "nbformat_minor": 5
}
