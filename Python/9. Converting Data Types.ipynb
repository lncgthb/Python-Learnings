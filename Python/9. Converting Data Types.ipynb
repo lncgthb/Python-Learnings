{
 "cells": [
  {
   "cell_type": "markdown",
   "id": "cbe50b0e-269f-40c3-831c-fedac9896450",
   "metadata": {},
   "source": [
    "# Converting Data Types"
   ]
  },
  {
   "cell_type": "markdown",
   "id": "bdcd1b4e-2f9e-4c8e-9e13-ffdba9f9b0b1",
   "metadata": {},
   "source": [
    "#### converting data types including string, integer, list, dictionary, tuple."
   ]
  },
  {
   "cell_type": "code",
   "execution_count": 1,
   "id": "2111c8e3-317d-4759-97ea-9b7b63cf3dd4",
   "metadata": {},
   "outputs": [
    {
     "name": "stdout",
     "output_type": "stream",
     "text": [
      "<class 'int'>\n",
      "<class 'str'>\n"
     ]
    }
   ],
   "source": [
    "# converting string to integer\n",
    "num_int = 7\n",
    "num_str = \"7\"\n",
    "\n",
    "print(type(num_int))\n",
    "print(type(num_str))"
   ]
  },
  {
   "cell_type": "code",
   "execution_count": 2,
   "id": "f0551e4f-4934-4a73-a5c7-9df4645b1115",
   "metadata": {},
   "outputs": [
    {
     "name": "stdout",
     "output_type": "stream",
     "text": [
      "14\n",
      "<class 'int'>\n"
     ]
    }
   ],
   "source": [
    "num_sum = num_int + int(num_str)\n",
    "print(num_sum)\n",
    "print(type(num_sum))"
   ]
  },
  {
   "cell_type": "code",
   "execution_count": 3,
   "id": "62e3afe8-a5fc-41ea-8b1e-25ca4d9118b5",
   "metadata": {},
   "outputs": [
    {
     "name": "stdout",
     "output_type": "stream",
     "text": [
      "<class 'list'>\n"
     ]
    }
   ],
   "source": [
    "# converting list, set, tuple\n",
    "type_list = [1, 2 ,3]\n",
    "print(type(type_list))"
   ]
  },
  {
   "cell_type": "code",
   "execution_count": 4,
   "id": "e516ad22-d13c-4462-9355-ab29f7122c65",
   "metadata": {},
   "outputs": [
    {
     "name": "stdout",
     "output_type": "stream",
     "text": [
      "<class 'tuple'>\n"
     ]
    }
   ],
   "source": [
    "type_tuple = tuple(type_list)\n",
    "print(type(type_tuple))"
   ]
  },
  {
   "cell_type": "code",
   "execution_count": 5,
   "id": "49b4c38c-0932-400a-84d8-8d33e87310ab",
   "metadata": {},
   "outputs": [
    {
     "name": "stdout",
     "output_type": "stream",
     "text": [
      "{1, 2, 3, 4, 5, 6}\n",
      "<class 'set'>\n"
     ]
    }
   ],
   "source": [
    "type_list2 = [1,2,3,4,5,6,1,2,3,4,5,6]\n",
    "type_set = set(type_list2)\n",
    "print(type_set)\n",
    "print(type(type_set))"
   ]
  },
  {
   "cell_type": "code",
   "execution_count": 6,
   "id": "a18b16df-9cff-4c7c-a857-5ac3f7df9ce2",
   "metadata": {},
   "outputs": [
    {
     "name": "stdout",
     "output_type": "stream",
     "text": [
      "<class 'dict'>\n"
     ]
    }
   ],
   "source": [
    "# converting dictionaries\n",
    "dict_type = {\"name\" : \"Alex\", \"age\" : 28, \"hair\" : \"N/A\"}\n",
    "print(type(dict_type))"
   ]
  },
  {
   "cell_type": "code",
   "execution_count": 7,
   "id": "ec6b13c2-643f-46b6-9381-9617619b9dfa",
   "metadata": {},
   "outputs": [
    {
     "name": "stdout",
     "output_type": "stream",
     "text": [
      "dict_items([('name', 'Alex'), ('age', 28), ('hair', 'N/A')])\n",
      "dict_keys(['name', 'age', 'hair'])\n",
      "dict_values(['Alex', 28, 'N/A'])\n"
     ]
    }
   ],
   "source": [
    "print(dict_type.items())\n",
    "print(dict_type.keys())\n",
    "print(dict_type.values())"
   ]
  },
  {
   "cell_type": "code",
   "execution_count": 8,
   "id": "402af926-5218-45b4-ab3b-dd957ed18547",
   "metadata": {},
   "outputs": [
    {
     "name": "stdout",
     "output_type": "stream",
     "text": [
      "[('name', 'Alex'), ('age', 28), ('hair', 'N/A')]\n",
      "<class 'list'>\n"
     ]
    }
   ],
   "source": [
    "dict_tolist = list(dict_type.items())\n",
    "print(dict_tolist)\n",
    "print(type(dict_tolist))"
   ]
  },
  {
   "cell_type": "code",
   "execution_count": 9,
   "id": "d9949208-85b5-49b9-940a-005f87f641e5",
   "metadata": {},
   "outputs": [
    {
     "ename": "AttributeError",
     "evalue": "'list' object has no attribute 'values'",
     "output_type": "error",
     "traceback": [
      "\u001b[1;31m---------------------------------------------------------------------------\u001b[0m",
      "\u001b[1;31mAttributeError\u001b[0m                            Traceback (most recent call last)",
      "Cell \u001b[1;32mIn[9], line 1\u001b[0m\n\u001b[1;32m----> 1\u001b[0m \u001b[38;5;28mprint\u001b[39m(dict_tolist\u001b[38;5;241m.\u001b[39mvalues())\n\u001b[0;32m      2\u001b[0m \u001b[38;5;28mprint\u001b[39m(\u001b[38;5;28mtype\u001b[39m(dict_tolist\u001b[38;5;241m.\u001b[39mvalues()))\n",
      "\u001b[1;31mAttributeError\u001b[0m: 'list' object has no attribute 'values'"
     ]
    }
   ],
   "source": [
    "print(dict_tolist.values())\n",
    "print(type(dict_tolist.values())) \n",
    "\n",
    "# this is because dict_tolist is now a list and not a dictionary"
   ]
  },
  {
   "cell_type": "code",
   "execution_count": 10,
   "id": "f3c7b347-60fa-4a86-9be0-eaf405a96589",
   "metadata": {},
   "outputs": [
    {
     "name": "stdout",
     "output_type": "stream",
     "text": [
      "['name', 'age', 'hair']\n",
      "<class 'list'>\n"
     ]
    }
   ],
   "source": [
    "dict_tokeys = list(dict_type.keys())\n",
    "print(dict_tokeys)\n",
    "print(type(dict_tokeys))"
   ]
  },
  {
   "cell_type": "code",
   "execution_count": 11,
   "id": "8ac02cf1-84b6-4480-86d3-eb509cb3add0",
   "metadata": {},
   "outputs": [
    {
     "name": "stdout",
     "output_type": "stream",
     "text": [
      "['Alex', 28, 'N/A']\n",
      "<class 'list'>\n"
     ]
    }
   ],
   "source": [
    "dict_tovalues = list(dict_type.values())\n",
    "print(dict_tovalues)\n",
    "print(type(dict_tovalues))"
   ]
  },
  {
   "cell_type": "code",
   "execution_count": 12,
   "id": "70954cde-3fbf-4e60-aca4-ae57483f07de",
   "metadata": {},
   "outputs": [
    {
     "name": "stdout",
     "output_type": "stream",
     "text": [
      "['I', ' ', 'l', 'i', 'k', 'e', ' ', 't', 'o', ' ', 'p', 'a', 'r', 't', 'y']\n",
      "<class 'list'>\n",
      "{'e', 'o', 'a', 'I', 'i', ' ', 't', 'y', 'k', 'p', 'r', 'l'}\n",
      "<class 'set'>\n"
     ]
    }
   ],
   "source": [
    "# convert long str to list or set\n",
    "\n",
    "long_str = \"I like to party\"\n",
    "\n",
    "long_str_list = list(long_str)\n",
    "long_str_set = set(long_str)\n",
    "\n",
    "print(long_str_list)\n",
    "print(type(long_str_list))\n",
    "print(long_str_set)\n",
    "print(type(long_str_set))"
   ]
  },
  {
   "cell_type": "code",
   "execution_count": null,
   "id": "7562662d-aba5-4824-ac2c-086d106ec9aa",
   "metadata": {},
   "outputs": [],
   "source": []
  }
 ],
 "metadata": {
  "kernelspec": {
   "display_name": "base",
   "language": "python",
   "name": "python3"
  },
  "language_info": {
   "codemirror_mode": {
    "name": "ipython",
    "version": 3
   },
   "file_extension": ".py",
   "mimetype": "text/x-python",
   "name": "python",
   "nbconvert_exporter": "python",
   "pygments_lexer": "ipython3",
   "version": "3.12.7"
  }
 },
 "nbformat": 4,
 "nbformat_minor": 5
}
