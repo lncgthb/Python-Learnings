{
 "cells": [
  {
   "cell_type": "markdown",
   "id": "22f32bd0-9c98-42b5-abf6-ea31b5281f1f",
   "metadata": {},
   "source": [
    "# if - elif - else Statements"
   ]
  },
  {
   "cell_type": "code",
   "execution_count": 1,
   "id": "16af1ee6-f6d6-4c23-a471-48b9f07df0cd",
   "metadata": {},
   "outputs": [
    {
     "name": "stdout",
     "output_type": "stream",
     "text": [
      "It worked!\n"
     ]
    }
   ],
   "source": [
    "if 25 > 10:\n",
    "    print(\"It worked!\")"
   ]
  },
  {
   "cell_type": "code",
   "execution_count": 2,
   "id": "8cd657da-9463-4695-959c-3f2ca555f2da",
   "metadata": {},
   "outputs": [
    {
     "name": "stdout",
     "output_type": "stream",
     "text": [
      "It did not work...\n"
     ]
    }
   ],
   "source": [
    "if 25 < 10:\n",
    "    print(\"It worked!\")\n",
    "else:\n",
    "    print(\"It did not work...\")"
   ]
  },
  {
   "cell_type": "code",
   "execution_count": 3,
   "id": "71927dd9-9f48-49e0-b3cb-a1eef3c535c3",
   "metadata": {},
   "outputs": [
    {
     "name": "stdout",
     "output_type": "stream",
     "text": [
      "elif 2 worked!\n"
     ]
    }
   ],
   "source": [
    "if 25 < 10:\n",
    "    print(\"It worked!\")\n",
    "elif 25 < 22:\n",
    "    print(\"elif worked!\")\n",
    "elif 25 < 30:\n",
    "    print(\"elif 2 worked!\")\n",
    "else:\n",
    "    print(\"It did not work...\")"
   ]
  },
  {
   "cell_type": "code",
   "execution_count": 4,
   "id": "710dccac-f5cc-407d-90f8-557670def688",
   "metadata": {},
   "outputs": [
    {
     "name": "stdout",
     "output_type": "stream",
     "text": [
      "It worked!\n"
     ]
    }
   ],
   "source": [
    "if 25 < 10 or (1 < 3):\n",
    "    print(\"It worked!\")\n",
    "elif 25 < 22:\n",
    "    print(\"elif worked!\")\n",
    "elif 25 < 30:\n",
    "    print(\"elif 2 worked!\")\n",
    "else:\n",
    "    print(\"It did not work...\")"
   ]
  },
  {
   "cell_type": "code",
   "execution_count": 5,
   "id": "1e977570-b5fc-478e-ae65-c6612d0220c4",
   "metadata": {},
   "outputs": [
    {
     "name": "stdout",
     "output_type": "stream",
     "text": [
      "It did not work...\n"
     ]
    }
   ],
   "source": [
    "# one line if - else\n",
    "\n",
    "print(\"It worked!\") if 10 > 30 else print(\"It did not work...\")"
   ]
  },
  {
   "cell_type": "code",
   "execution_count": 6,
   "id": "c047884c-d2d9-44cf-9939-63b92a4d745e",
   "metadata": {},
   "outputs": [
    {
     "name": "stdout",
     "output_type": "stream",
     "text": [
      "It worked!\n",
      "This nested if statement worked!\n"
     ]
    }
   ],
   "source": [
    "# nested if - elif - else\n",
    "\n",
    "if 25 < 10 or (1 < 3):\n",
    "    print(\"It worked!\")\n",
    "    if 10 > 5:\n",
    "        print(\"This nested if statement worked!\")\n",
    "elif 25 < 22:\n",
    "    print(\"elif worked!\")\n",
    "elif 25 < 30:\n",
    "    print(\"elif 2 worked!\")\n",
    "else:\n",
    "    print(\"It did not work...\")"
   ]
  },
  {
   "cell_type": "code",
   "execution_count": null,
   "id": "6d50fcce-7976-475f-9c36-598fef45b42b",
   "metadata": {},
   "outputs": [],
   "source": []
  }
 ],
 "metadata": {
  "kernelspec": {
   "display_name": "base",
   "language": "python",
   "name": "python3"
  },
  "language_info": {
   "codemirror_mode": {
    "name": "ipython",
    "version": 3
   },
   "file_extension": ".py",
   "mimetype": "text/x-python",
   "name": "python",
   "nbconvert_exporter": "python",
   "pygments_lexer": "ipython3",
   "version": "3.12.7"
  }
 },
 "nbformat": 4,
 "nbformat_minor": 5
}
