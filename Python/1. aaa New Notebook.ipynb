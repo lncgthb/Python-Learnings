{
 "cells": [
  {
   "cell_type": "code",
   "execution_count": 1,
   "id": "38c2d1a4-1e71-41aa-83f1-b6a13a60fe2f",
   "metadata": {},
   "outputs": [
    {
     "name": "stdout",
     "output_type": "stream",
     "text": [
      "Hello Wolrd!\n"
     ]
    }
   ],
   "source": [
    "print(\"Hello Wolrd!\")"
   ]
  },
  {
   "cell_type": "markdown",
   "id": "4294db35-1848-41b6-8672-24dd31d3d4a9",
   "metadata": {},
   "source": [
    "# First Notebook"
   ]
  },
  {
   "cell_type": "code",
   "execution_count": null,
   "id": "e003ab34",
   "metadata": {},
   "outputs": [],
   "source": []
  }
 ],
 "metadata": {
  "kernelspec": {
   "display_name": "base",
   "language": "python",
   "name": "python3"
  },
  "language_info": {
   "codemirror_mode": {
    "name": "ipython",
    "version": 3
   },
   "file_extension": ".py",
   "mimetype": "text/x-python",
   "name": "python",
   "nbconvert_exporter": "python",
   "pygments_lexer": "ipython3",
   "version": "3.12.7"
  }
 },
 "nbformat": 4,
 "nbformat_minor": 5
}
