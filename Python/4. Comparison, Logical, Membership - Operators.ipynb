{
 "cells": [
  {
   "cell_type": "markdown",
   "id": "68287614-766f-457e-b4a3-5b5cd843f974",
   "metadata": {},
   "source": [
    "# Comparison Operators"
   ]
  },
  {
   "cell_type": "markdown",
   "id": "de7f0357-0794-40ac-8af0-1cad4a7117ae",
   "metadata": {},
   "source": [
    "##### ==\n",
    "##### !=\n",
    "##### >\n",
    "##### <\n",
    "##### >=\n",
    "##### <="
   ]
  },
  {
   "cell_type": "code",
   "execution_count": 1,
   "id": "9b41be2d-1f47-4a61-8cf2-bb76cde79d2c",
   "metadata": {},
   "outputs": [
    {
     "name": "stdout",
     "output_type": "stream",
     "text": [
      "True\n",
      "False\n",
      "False\n"
     ]
    }
   ],
   "source": [
    "print(10 == 10)\n",
    "print(10 !=10)\n",
    "print(\"Vanilla\" == \"Chocolate\")"
   ]
  },
  {
   "cell_type": "code",
   "execution_count": 2,
   "id": "2b425cb3-cd32-4db2-b7b6-c661a53b31b4",
   "metadata": {},
   "outputs": [
    {
     "name": "stdout",
     "output_type": "stream",
     "text": [
      "False\n"
     ]
    }
   ],
   "source": [
    "x = \"Vanilla\"\n",
    "y = \"Chocolate\"\n",
    "\n",
    "print(x == y)"
   ]
  },
  {
   "cell_type": "code",
   "execution_count": 3,
   "id": "5e30d299-8d9f-470e-b1a9-5c32879317d8",
   "metadata": {},
   "outputs": [
    {
     "data": {
      "text/plain": [
       "True"
      ]
     },
     "execution_count": 3,
     "metadata": {},
     "output_type": "execute_result"
    }
   ],
   "source": [
    "10 >= 10"
   ]
  },
  {
   "cell_type": "code",
   "execution_count": 4,
   "id": "496a093b-c428-4347-a7e4-64bc6ad3e6a5",
   "metadata": {},
   "outputs": [
    {
     "data": {
      "text/plain": [
       "False"
      ]
     },
     "execution_count": 4,
     "metadata": {},
     "output_type": "execute_result"
    }
   ],
   "source": [
    "50 < 10"
   ]
  },
  {
   "cell_type": "markdown",
   "id": "096ae7db-9494-4ed4-b4d9-7870e3600e8c",
   "metadata": {},
   "source": [
    "# Logical Operators"
   ]
  },
  {
   "cell_type": "markdown",
   "id": "7ca81871-5a85-408b-82af-2bf7c8027896",
   "metadata": {},
   "source": [
    "#### and\n",
    "#### or\n",
    "#### not"
   ]
  },
  {
   "cell_type": "code",
   "execution_count": 5,
   "id": "d369eb63-5354-4d2b-a9f4-e7cc3d96c1fd",
   "metadata": {},
   "outputs": [
    {
     "data": {
      "text/plain": [
       "False"
      ]
     },
     "execution_count": 5,
     "metadata": {},
     "output_type": "execute_result"
    }
   ],
   "source": [
    "(70 > 10) and (10 > 11)"
   ]
  },
  {
   "cell_type": "code",
   "execution_count": 6,
   "id": "039c8c58-b842-4edf-a403-be4ce26c4ec7",
   "metadata": {},
   "outputs": [
    {
     "data": {
      "text/plain": [
       "True"
      ]
     },
     "execution_count": 6,
     "metadata": {},
     "output_type": "execute_result"
    }
   ],
   "source": [
    "# alphabet numbering with string\n",
    "\n",
    "(\"Vanilla\" > \"Chocolate\") and (10 < 11)"
   ]
  },
  {
   "cell_type": "code",
   "execution_count": 7,
   "id": "96d2e112-f74f-454d-952a-168b11a33d8c",
   "metadata": {},
   "outputs": [
    {
     "data": {
      "text/plain": [
       "False"
      ]
     },
     "execution_count": 7,
     "metadata": {},
     "output_type": "execute_result"
    }
   ],
   "source": [
    "not(50 > 10)"
   ]
  },
  {
   "cell_type": "markdown",
   "id": "6f241133-dc33-43b9-8ca3-f9e66532fd77",
   "metadata": {},
   "source": [
    "# Membership Operators\n"
   ]
  },
  {
   "cell_type": "markdown",
   "id": "4cc548e5-7b5c-485b-84b7-9d2cecd65934",
   "metadata": {},
   "source": [
    "#### in\n",
    "#### not in"
   ]
  },
  {
   "cell_type": "code",
   "execution_count": 8,
   "id": "82806593-7763-495a-99d4-712bf4c81611",
   "metadata": {},
   "outputs": [
    {
     "name": "stdout",
     "output_type": "stream",
     "text": [
      "True\n"
     ]
    }
   ],
   "source": [
    "ice_cream = \"I love Chocolate ice cream\"\n",
    "\n",
    "print(\"love\" in ice_cream)"
   ]
  },
  {
   "cell_type": "code",
   "execution_count": 9,
   "id": "474fad89-8704-409a-841c-83de631b52ef",
   "metadata": {},
   "outputs": [
    {
     "name": "stdout",
     "output_type": "stream",
     "text": [
      "False\n"
     ]
    }
   ],
   "source": [
    "scoops = [1, 2, 3, 4, 5]\n",
    "wanted_scoops = 8\n",
    "\n",
    "print(wanted_scoops in scoops)"
   ]
  },
  {
   "cell_type": "code",
   "execution_count": null,
   "id": "fec00803-c1ae-4e06-9510-5e1a6ab45384",
   "metadata": {},
   "outputs": [],
   "source": []
  }
 ],
 "metadata": {
  "kernelspec": {
   "display_name": "base",
   "language": "python",
   "name": "python3"
  },
  "language_info": {
   "codemirror_mode": {
    "name": "ipython",
    "version": 3
   },
   "file_extension": ".py",
   "mimetype": "text/x-python",
   "name": "python",
   "nbconvert_exporter": "python",
   "pygments_lexer": "ipython3",
   "version": "3.12.7"
  }
 },
 "nbformat": 4,
 "nbformat_minor": 5
}
